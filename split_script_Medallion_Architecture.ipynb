{
 "cells": [
  {
   "cell_type": "code",
   "execution_count": 0,
   "metadata": {
    "application/vnd.databricks.v1+cell": {
     "cellMetadata": {
      "byteLimit": 2048000,
      "rowLimit": 10000
     },
     "inputWidgets": {},
     "nuid": "11dc0a00-7889-4eb0-badf-dca38fc5f456",
     "showTitle": false,
     "tableResultSettingsMap": {},
     "title": ""
    }
   },
   "outputs": [],
   "source": [
    "import pyspark\n",
    "import os\n",
    "import pandas\n",
    "import distutils\n",
    "import csv\n",
    "import sqlite3\n",
    "from sqlalchemy import create_engine\n"
   ]
  },
  {
   "cell_type": "code",
   "execution_count": 0,
   "metadata": {
    "application/vnd.databricks.v1+cell": {
     "cellMetadata": {
      "byteLimit": 2048000,
      "rowLimit": 10000
     },
     "inputWidgets": {},
     "nuid": "4c3cc36a-ed67-432c-a531-64bc456bff87",
     "showTitle": false,
     "tableResultSettingsMap": {},
     "title": ""
    }
   },
   "outputs": [],
   "source": [
    "from pyspark.sql import SparkSession\n",
    "from pyspark.sql import Row\n",
    "from pyspark.sql import functions as F\n",
    "from pyspark.sql.functions import *\n",
    "from pyspark.sql.types import *\n",
    "from functools import reduce"
   ]
  },
  {
   "cell_type": "code",
   "execution_count": 0,
   "metadata": {
    "application/vnd.databricks.v1+cell": {
     "cellMetadata": {
      "byteLimit": 2048000,
      "rowLimit": 10000
     },
     "inputWidgets": {},
     "nuid": "0e8421f7-7a1b-43c0-a7f1-fcf513fd1554",
     "showTitle": false,
     "tableResultSettingsMap": {},
     "title": ""
    }
   },
   "outputs": [],
   "source": [
    "spark=SparkSession.builder.appName(\"JEH\").getOrCreate()"
   ]
  },
  {
   "cell_type": "code",
   "execution_count": 0,
   "metadata": {
    "application/vnd.databricks.v1+cell": {
     "cellMetadata": {
      "byteLimit": 2048000,
      "rowLimit": 10000
     },
     "inputWidgets": {},
     "nuid": "0967bd21-4774-466c-8f45-4e1fda2efaba",
     "showTitle": false,
     "tableResultSettingsMap": {},
     "title": ""
    }
   },
   "outputs": [],
   "source": [
    "raw_df=spark.read.option(\"header\",True).option(\"escape\",'\"').option(\"multiLine\",True).csv(\"dbfs:/FileStore/shared_uploads/valarmathy.v@blackstraw.ai/large_array_data.csv\")"
   ]
  },
  {
   "cell_type": "code",
   "execution_count": 0,
   "metadata": {
    "application/vnd.databricks.v1+cell": {
     "cellMetadata": {
      "byteLimit": 2048000,
      "rowLimit": 10000
     },
     "inputWidgets": {},
     "nuid": "15eaf68f-cf36-4138-87c9-b5ab6bf2b25b",
     "showTitle": false,
     "tableResultSettingsMap": {},
     "title": ""
    }
   },
   "outputs": [
    {
     "output_type": "stream",
     "name": "stdout",
     "output_type": "stream",
     "text": [
      "Out[45]: DataFrame[]"
     ]
    }
   ],
   "source": [
    "raw_df.write.format(\"delta\").mode(\"overwrite\").save(\"dbfs:/FileStore/tables/delta/large_array_file/bronze/array_raw\")\n",
    "spark.sql(\"CREATE SCHEMA IF NOT EXISTS bronze\")\n",
    "spark.sql(\"create table if not exists bronze.array_raw using delta location 'dbfs:/FileStore/tables/delta/large_array_file/bronze/array_raw'\")"
   ]
  },
  {
   "cell_type": "code",
   "execution_count": 0,
   "metadata": {
    "application/vnd.databricks.v1+cell": {
     "cellMetadata": {
      "byteLimit": 2048000,
      "rowLimit": 10000
     },
     "inputWidgets": {},
     "nuid": "08df05cf-4a23-4d6a-a027-bc95c1111682",
     "showTitle": false,
     "tableResultSettingsMap": {},
     "title": ""
    }
   },
   "outputs": [
    {
     "output_type": "stream",
     "name": "stdout",
     "output_type": "stream",
     "text": [
      "['message_follower_ids']\n1\n"
     ]
    }
   ],
   "source": [
    "# TRANFORMATION LOGICS 1\n",
    "array_cols = []\n",
    "for c in raw_df.columns:\n",
    "\n",
    "    sorted_df=raw_df.orderBy(col(c).asc())\n",
    "\n",
    "    filtered_df=sorted_df.filter(col(c).startswith(\"[\") & col(c).endswith(\"]\"))\n",
    "\n",
    "    if filtered_df.count()>0:\n",
    "        array_cols.append(c)\n",
    "print(array_cols)\n",
    "print(len(array_cols))\n"
   ]
  },
  {
   "cell_type": "code",
   "execution_count": 0,
   "metadata": {
    "application/vnd.databricks.v1+cell": {
     "cellMetadata": {
      "byteLimit": 2048000,
      "rowLimit": 10000
     },
     "inputWidgets": {},
     "nuid": "e6e8fddc-2de2-4370-b65b-342c9b5ce018",
     "showTitle": false,
     "tableResultSettingsMap": {},
     "title": ""
    }
   },
   "outputs": [],
   "source": [
    "# TRANFORMATION LOGICS 2\n",
    "tmpdf=raw_df\n",
    "\n",
    "final_columns = []\n",
    "for c in tmpdf.columns:\n",
    "    \n",
    "    if c not in array_cols:\n",
    "        final_columns.append(col(c))\n",
    "    else:\n",
    "        # Step 2: Appending original col\n",
    "        final_columns.append(col(c)) \n",
    "        # Step 3: creatimng tmp col to use for conversion of str to arr & splitting data\n",
    "        tmpcol_name=f\"{c}_tmp\"\n",
    "        \n",
    "        tmpdf = tmpdf.withColumn(tmpcol_name,from_json(col(c), ArrayType(StringType())))\n",
    "\n",
    "        max_len = tmpdf.select(size(col(tmpcol_name)).alias(\"len\")).agg(F.max(\"len\")).collect()[0][0]\n",
    "\n",
    "        for i in range(max_len):\n",
    "            final_columns.append(col(tmpcol_name).getItem(i).alias(f\"{c}_{i+1}\"))\n",
    "        \n",
    "# Step 4: selecting final cols\n",
    "finaldf = tmpdf.select(*final_columns)\n"
   ]
  },
  {
   "cell_type": "code",
   "execution_count": 0,
   "metadata": {
    "application/vnd.databricks.v1+cell": {
     "cellMetadata": {
      "byteLimit": 2048000,
      "rowLimit": 10000
     },
     "inputWidgets": {},
     "nuid": "c0b82ec7-990f-471a-a5fd-1b9b2b490902",
     "showTitle": false,
     "tableResultSettingsMap": {},
     "title": ""
    }
   },
   "outputs": [
    {
     "output_type": "stream",
     "name": "stdout",
     "output_type": "stream",
     "text": [
      "Out[48]: DataFrame[]"
     ]
    }
   ],
   "source": [
    "finaldf.write.format(\"delta\").mode(\"overwrite\").save(\"dbfs:/FileStore/tables/delta/large_array_file/silver/array_splitted_data\")\n",
    "spark.sql(\"create schema if not exists silver\")\n",
    "spark.sql(\"create table if not exists silver.array_splitted_data using delta location 'dbfs:/FileStore/tables/delta/large_array_file/silver/array_splitted_data'\")"
   ]
  },
  {
   "cell_type": "code",
   "execution_count": 0,
   "metadata": {
    "application/vnd.databricks.v1+cell": {
     "cellMetadata": {
      "byteLimit": 2048000,
      "rowLimit": 10000
     },
     "inputWidgets": {},
     "nuid": "d6532e4a-5e90-425c-bf37-dafec63efa2e",
     "showTitle": false,
     "tableResultSettingsMap": {},
     "title": ""
    }
   },
   "outputs": [],
   "source": [
    "\n",
    "finaldf.write.mode(\"overwrite\").option(\"header\", True).option(\"sep\", \",\").csv(\"dbfs:/FileStore/tables/delta/large_array_file/silver/array_splitted_data.csv\")\n"
   ]
  },
  {
   "cell_type": "code",
   "execution_count": 0,
   "metadata": {
    "application/vnd.databricks.v1+cell": {
     "cellMetadata": {
      "byteLimit": 2048000,
      "implicitDf": true,
      "rowLimit": 10000
     },
     "inputWidgets": {},
     "nuid": "b8de26de-c99e-4f41-9a84-492e5b0932f8",
     "showTitle": false,
     "tableResultSettingsMap": {},
     "title": ""
    }
   },
   "outputs": [
    {
     "output_type": "display_data",
     "data": {
      "text/html": [
       "<style scoped>\n",
       "  .table-result-container {\n",
       "    max-height: 300px;\n",
       "    overflow: auto;\n",
       "  }\n",
       "  table, th, td {\n",
       "    border: 1px solid black;\n",
       "    border-collapse: collapse;\n",
       "  }\n",
       "  th, td {\n",
       "    padding: 5px;\n",
       "  }\n",
       "  th {\n",
       "    text-align: left;\n",
       "  }\n",
       "</style><div class='table-result-container'><table class='table-result'><thead style='background-color: white'><tr><th>name</th><th>Follower_count</th></tr></thead><tbody><tr><td>User_70</td><td>246</td></tr><tr><td>User_44</td><td>270</td></tr><tr><td>User_38</td><td>206</td></tr><tr><td>User_55</td><td>266</td></tr><tr><td>User_81</td><td>233</td></tr><tr><td>User_10</td><td>248</td></tr><tr><td>User_83</td><td>281</td></tr><tr><td>User_9</td><td>207</td></tr><tr><td>User_98</td><td>355</td></tr><tr><td>User_85</td><td>260</td></tr><tr><td>User_59</td><td>251</td></tr><tr><td>User_96</td><td>243</td></tr><tr><td>User_11</td><td>257</td></tr><tr><td>User_8</td><td>263</td></tr><tr><td>User_78</td><td>213</td></tr><tr><td>User_76</td><td>208</td></tr><tr><td>User_100</td><td>230</td></tr><tr><td>User_89</td><td>185</td></tr><tr><td>User_92</td><td>214</td></tr><tr><td>User_66</td><td>263</td></tr><tr><td>User_39</td><td>255</td></tr><tr><td>User_2</td><td>219</td></tr><tr><td>User_1</td><td>274</td></tr><tr><td>User_51</td><td>317</td></tr><tr><td>User_84</td><td>247</td></tr><tr><td>User_4</td><td>243</td></tr><tr><td>User_14</td><td>326</td></tr><tr><td>User_91</td><td>235</td></tr><tr><td>User_19</td><td>205</td></tr><tr><td>User_53</td><td>249</td></tr><tr><td>User_37</td><td>261</td></tr><tr><td>User_71</td><td>225</td></tr><tr><td>User_42</td><td>281</td></tr><tr><td>User_18</td><td>200</td></tr><tr><td>User_3</td><td>250</td></tr><tr><td>User_65</td><td>293</td></tr><tr><td>User_6</td><td>282</td></tr><tr><td>User_77</td><td>238</td></tr><tr><td>User_36</td><td>208</td></tr><tr><td>User_63</td><td>250</td></tr><tr><td>User_67</td><td>244</td></tr><tr><td>User_13</td><td>264</td></tr><tr><td>User_30</td><td>300</td></tr><tr><td>User_7</td><td>262</td></tr><tr><td>User_49</td><td>223</td></tr><tr><td>User_25</td><td>316</td></tr><tr><td>User_57</td><td>271</td></tr><tr><td>User_35</td><td>272</td></tr><tr><td>User_16</td><td>258</td></tr><tr><td>User_31</td><td>315</td></tr><tr><td>User_5</td><td>263</td></tr><tr><td>User_54</td><td>326</td></tr><tr><td>User_73</td><td>266</td></tr><tr><td>User_88</td><td>245</td></tr><tr><td>User_64</td><td>209</td></tr><tr><td>User_20</td><td>256</td></tr><tr><td>User_72</td><td>173</td></tr><tr><td>User_12</td><td>239</td></tr><tr><td>User_15</td><td>244</td></tr><tr><td>User_99</td><td>245</td></tr><tr><td>User_17</td><td>258</td></tr><tr><td>User_26</td><td>258</td></tr><tr><td>User_43</td><td>279</td></tr><tr><td>User_27</td><td>246</td></tr><tr><td>User_80</td><td>226</td></tr><tr><td>User_34</td><td>256</td></tr><tr><td>User_68</td><td>253</td></tr><tr><td>User_24</td><td>213</td></tr><tr><td>User_28</td><td>278</td></tr><tr><td>User_46</td><td>263</td></tr><tr><td>User_75</td><td>248</td></tr><tr><td>User_21</td><td>240</td></tr><tr><td>User_93</td><td>281</td></tr><tr><td>User_33</td><td>235</td></tr><tr><td>User_48</td><td>222</td></tr><tr><td>User_86</td><td>261</td></tr><tr><td>User_40</td><td>194</td></tr><tr><td>User_32</td><td>292</td></tr><tr><td>User_60</td><td>224</td></tr><tr><td>User_97</td><td>261</td></tr><tr><td>User_87</td><td>247</td></tr><tr><td>User_56</td><td>260</td></tr><tr><td>User_58</td><td>221</td></tr><tr><td>User_29</td><td>274</td></tr><tr><td>User_94</td><td>232</td></tr><tr><td>User_79</td><td>223</td></tr><tr><td>User_41</td><td>275</td></tr><tr><td>User_61</td><td>269</td></tr><tr><td>User_90</td><td>252</td></tr><tr><td>User_52</td><td>225</td></tr><tr><td>User_45</td><td>240</td></tr><tr><td>User_47</td><td>238</td></tr><tr><td>User_82</td><td>277</td></tr><tr><td>User_62</td><td>295</td></tr><tr><td>User_95</td><td>229</td></tr><tr><td>User_74</td><td>250</td></tr><tr><td>User_22</td><td>241</td></tr><tr><td>User_69</td><td>253</td></tr><tr><td>User_50</td><td>239</td></tr><tr><td>User_23</td><td>257</td></tr></tbody></table></div>"
      ]
     },
     "metadata": {
      "application/vnd.databricks.v1+output": {
       "addedWidgets": {},
       "aggData": [],
       "aggError": "",
       "aggOverflow": false,
       "aggSchema": [],
       "aggSeriesLimitReached": false,
       "aggType": "",
       "arguments": {},
       "columnCustomDisplayInfos": {},
       "data": [
        [
         "User_70",
         246
        ],
        [
         "User_44",
         270
        ],
        [
         "User_38",
         206
        ],
        [
         "User_55",
         266
        ],
        [
         "User_81",
         233
        ],
        [
         "User_10",
         248
        ],
        [
         "User_83",
         281
        ],
        [
         "User_9",
         207
        ],
        [
         "User_98",
         355
        ],
        [
         "User_85",
         260
        ],
        [
         "User_59",
         251
        ],
        [
         "User_96",
         243
        ],
        [
         "User_11",
         257
        ],
        [
         "User_8",
         263
        ],
        [
         "User_78",
         213
        ],
        [
         "User_76",
         208
        ],
        [
         "User_100",
         230
        ],
        [
         "User_89",
         185
        ],
        [
         "User_92",
         214
        ],
        [
         "User_66",
         263
        ],
        [
         "User_39",
         255
        ],
        [
         "User_2",
         219
        ],
        [
         "User_1",
         274
        ],
        [
         "User_51",
         317
        ],
        [
         "User_84",
         247
        ],
        [
         "User_4",
         243
        ],
        [
         "User_14",
         326
        ],
        [
         "User_91",
         235
        ],
        [
         "User_19",
         205
        ],
        [
         "User_53",
         249
        ],
        [
         "User_37",
         261
        ],
        [
         "User_71",
         225
        ],
        [
         "User_42",
         281
        ],
        [
         "User_18",
         200
        ],
        [
         "User_3",
         250
        ],
        [
         "User_65",
         293
        ],
        [
         "User_6",
         282
        ],
        [
         "User_77",
         238
        ],
        [
         "User_36",
         208
        ],
        [
         "User_63",
         250
        ],
        [
         "User_67",
         244
        ],
        [
         "User_13",
         264
        ],
        [
         "User_30",
         300
        ],
        [
         "User_7",
         262
        ],
        [
         "User_49",
         223
        ],
        [
         "User_25",
         316
        ],
        [
         "User_57",
         271
        ],
        [
         "User_35",
         272
        ],
        [
         "User_16",
         258
        ],
        [
         "User_31",
         315
        ],
        [
         "User_5",
         263
        ],
        [
         "User_54",
         326
        ],
        [
         "User_73",
         266
        ],
        [
         "User_88",
         245
        ],
        [
         "User_64",
         209
        ],
        [
         "User_20",
         256
        ],
        [
         "User_72",
         173
        ],
        [
         "User_12",
         239
        ],
        [
         "User_15",
         244
        ],
        [
         "User_99",
         245
        ],
        [
         "User_17",
         258
        ],
        [
         "User_26",
         258
        ],
        [
         "User_43",
         279
        ],
        [
         "User_27",
         246
        ],
        [
         "User_80",
         226
        ],
        [
         "User_34",
         256
        ],
        [
         "User_68",
         253
        ],
        [
         "User_24",
         213
        ],
        [
         "User_28",
         278
        ],
        [
         "User_46",
         263
        ],
        [
         "User_75",
         248
        ],
        [
         "User_21",
         240
        ],
        [
         "User_93",
         281
        ],
        [
         "User_33",
         235
        ],
        [
         "User_48",
         222
        ],
        [
         "User_86",
         261
        ],
        [
         "User_40",
         194
        ],
        [
         "User_32",
         292
        ],
        [
         "User_60",
         224
        ],
        [
         "User_97",
         261
        ],
        [
         "User_87",
         247
        ],
        [
         "User_56",
         260
        ],
        [
         "User_58",
         221
        ],
        [
         "User_29",
         274
        ],
        [
         "User_94",
         232
        ],
        [
         "User_79",
         223
        ],
        [
         "User_41",
         275
        ],
        [
         "User_61",
         269
        ],
        [
         "User_90",
         252
        ],
        [
         "User_52",
         225
        ],
        [
         "User_45",
         240
        ],
        [
         "User_47",
         238
        ],
        [
         "User_82",
         277
        ],
        [
         "User_62",
         295
        ],
        [
         "User_95",
         229
        ],
        [
         "User_74",
         250
        ],
        [
         "User_22",
         241
        ],
        [
         "User_69",
         253
        ],
        [
         "User_50",
         239
        ],
        [
         "User_23",
         257
        ]
       ],
       "datasetInfos": [],
       "dbfsResultPath": null,
       "isJsonSchema": true,
       "metadata": {},
       "overflow": false,
       "plotOptions": {
        "customPlotOptions": {},
        "displayType": "table",
        "pivotAggregation": null,
        "pivotColumns": null,
        "xColumns": null,
        "yColumns": null
       },
       "removedWidgets": [],
       "schema": [
        {
         "metadata": "{}",
         "name": "name",
         "type": "\"string\""
        },
        {
         "metadata": "{}",
         "name": "Follower_count",
         "type": "\"long\""
        }
       ],
       "type": "table"
      }
     },
     "output_type": "display_data"
    },
    {
     "output_type": "display_data",
     "data": {
      "text/plain": [
       "Databricks visualization. Run in Databricks to view."
      ]
     },
     "metadata": {
      "application/vnd.databricks.v1.subcommand+json": {
       "baseErrorDetails": null,
       "bindings": {},
       "collapsed": false,
       "command": "%sql WITH q AS (SELECT \n  name, \n  CASE \n    WHEN message_follower_ids IS NULL OR message_follower_ids = '[]' THEN 0\n    ELSE SIZE(SPLIT(REGEXP_REPLACE(message_follower_ids, '[\\\\[\\\\]\\\\s]', ''), ',')) \n  END AS Follower_count\nFROM silver.array_splitted_data) SELECT `Follower_count`,`name` FROM q GROUP BY `Follower_count`,`name`",
       "commandTitle": "Visualization 1",
       "commandType": "auto",
       "commandVersion": 0,
       "commentThread": [],
       "commentsVisible": false,
       "contentSha256Hex": null,
       "customPlotOptions": {
        "redashChart": [
         {
          "key": "type",
          "value": "CHART"
         },
         {
          "key": "options",
          "value": {
           "alignYAxesAtZero": true,
           "coefficient": 1,
           "columnConfigurationMap": {
            "series": {
             "column": "name",
             "id": "column_63a77e8c95"
            },
            "x": {
             "column": "Follower_count",
             "id": "column_63a77e8c94"
            },
            "y": []
           },
           "dateTimeFormat": "DD/MM/YYYY HH:mm",
           "direction": {
            "type": "counterclockwise"
           },
           "error_y": {
            "type": "data",
            "visible": true
           },
           "globalSeriesType": "column",
           "legend": {
            "traceorder": "normal"
           },
           "missingValuesAsZero": true,
           "numberFormat": "0,0.[00000]",
           "percentFormat": "0[.]00%",
           "series": {
            "error_y": {
             "type": "data",
             "visible": true
            },
            "stacking": null
           },
           "seriesOptions": {},
           "showDataLabels": false,
           "sizemode": "diameter",
           "sortX": true,
           "sortY": true,
           "swappedAxes": false,
           "textFormat": "",
           "useAggregationsUi": true,
           "valuesOptions": {},
           "version": 2,
           "xAxis": {
            "labels": {
             "enabled": true
            },
            "type": "-"
           },
           "yAxis": [
            {
             "type": "-"
            },
            {
             "opposite": true,
             "type": "-"
            }
           ]
          }
         }
        ]
       },
       "datasetPreviewNameToCmdIdMap": {},
       "diffDeletes": [],
       "diffInserts": [],
       "displayType": "redashChart",
       "error": null,
       "errorDetails": null,
       "errorSummary": null,
       "errorTraceType": null,
       "finishTime": 0,
       "globalVars": {},
       "guid": "",
       "height": "auto",
       "hideCommandCode": false,
       "hideCommandResult": false,
       "iPythonMetadata": null,
       "inputWidgets": {},
       "isLockedInExamMode": false,
       "latestUser": "a user",
       "latestUserId": null,
       "listResultMetadata": null,
       "metadata": {},
       "nuid": "5dcdb59b-5514-4031-a677-85148be902ad",
       "origId": 0,
       "parentHierarchy": [],
       "pivotAggregation": null,
       "pivotColumns": null,
       "position": 10.0,
       "resultDbfsErrorMessage": null,
       "resultDbfsStatus": "INLINED_IN_TREE",
       "results": null,
       "showCommandTitle": false,
       "startTime": 0,
       "state": "input",
       "streamStates": {},
       "subcommandOptions": {
        "queryPlan": {
         "groups": [
          {
           "column": "Follower_count",
           "type": "column"
          },
          {
           "column": "name",
           "type": "column"
          }
         ],
         "selects": [
          {
           "column": "Follower_count",
           "type": "column"
          },
          {
           "column": "name",
           "type": "column"
          }
         ]
        }
       },
       "submitTime": 0,
       "subtype": "tableResultSubCmd.visualization",
       "tableResultIndex": 0,
       "tableResultSettingsMap": {},
       "useConsistentColors": false,
       "version": "CommandV1",
       "width": "auto",
       "workflows": [],
       "xColumns": null,
       "yColumns": null
      }
     },
     "output_type": "display_data"
    }
   ],
   "source": [
    "%sql\n",
    "SELECT \n",
    "  name, \n",
    "  sum(\n",
    "  CASE \n",
    "    WHEN message_follower_ids IS NULL OR message_follower_ids = '[]' THEN 0\n",
    "    ELSE SIZE(SPLIT(REGEXP_REPLACE(message_follower_ids, '[\\\\[\\\\]\\\\s]', ''), ',')) \n",
    "  END) AS Follower_count\n",
    "FROM silver.array_splitted_data\n",
    "group by name\n"
   ]
  },
  {
   "cell_type": "code",
   "execution_count": 0,
   "metadata": {
    "application/vnd.databricks.v1+cell": {
     "cellMetadata": {
      "byteLimit": 2048000,
      "rowLimit": 10000
     },
     "inputWidgets": {},
     "nuid": "53355344-985e-4e18-8dac-bb1c995cd93b",
     "showTitle": false,
     "tableResultSettingsMap": {},
     "title": ""
    }
   },
   "outputs": [
    {
     "output_type": "display_data",
     "data": {
      "text/html": [
       "<style scoped>\n",
       "  .table-result-container {\n",
       "    max-height: 300px;\n",
       "    overflow: auto;\n",
       "  }\n",
       "  table, th, td {\n",
       "    border: 1px solid black;\n",
       "    border-collapse: collapse;\n",
       "  }\n",
       "  th, td {\n",
       "    padding: 5px;\n",
       "  }\n",
       "  th {\n",
       "    text-align: left;\n",
       "  }\n",
       "</style><div class='table-result-container'><table class='table-result'><thead style='background-color: white'><tr><th>name</th><th>Follower_count</th></tr></thead><tbody><tr><td>User_70</td><td>246</td></tr><tr><td>User_44</td><td>270</td></tr><tr><td>User_38</td><td>206</td></tr><tr><td>User_55</td><td>266</td></tr><tr><td>User_81</td><td>233</td></tr><tr><td>User_10</td><td>248</td></tr><tr><td>User_83</td><td>281</td></tr><tr><td>User_9</td><td>207</td></tr><tr><td>User_98</td><td>355</td></tr><tr><td>User_85</td><td>260</td></tr><tr><td>User_59</td><td>251</td></tr><tr><td>User_96</td><td>243</td></tr><tr><td>User_11</td><td>257</td></tr><tr><td>User_8</td><td>263</td></tr><tr><td>User_78</td><td>213</td></tr><tr><td>User_76</td><td>208</td></tr><tr><td>User_100</td><td>230</td></tr><tr><td>User_89</td><td>185</td></tr><tr><td>User_92</td><td>214</td></tr><tr><td>User_66</td><td>263</td></tr><tr><td>User_39</td><td>255</td></tr><tr><td>User_2</td><td>219</td></tr><tr><td>User_1</td><td>274</td></tr><tr><td>User_51</td><td>317</td></tr><tr><td>User_84</td><td>247</td></tr><tr><td>User_4</td><td>243</td></tr><tr><td>User_14</td><td>326</td></tr><tr><td>User_91</td><td>235</td></tr><tr><td>User_19</td><td>205</td></tr><tr><td>User_53</td><td>249</td></tr><tr><td>User_37</td><td>261</td></tr><tr><td>User_71</td><td>225</td></tr><tr><td>User_42</td><td>281</td></tr><tr><td>User_18</td><td>200</td></tr><tr><td>User_3</td><td>250</td></tr><tr><td>User_65</td><td>293</td></tr><tr><td>User_6</td><td>282</td></tr><tr><td>User_77</td><td>238</td></tr><tr><td>User_36</td><td>208</td></tr><tr><td>User_63</td><td>250</td></tr><tr><td>User_67</td><td>244</td></tr><tr><td>User_13</td><td>264</td></tr><tr><td>User_30</td><td>300</td></tr><tr><td>User_7</td><td>262</td></tr><tr><td>User_49</td><td>223</td></tr><tr><td>User_25</td><td>316</td></tr><tr><td>User_57</td><td>271</td></tr><tr><td>User_35</td><td>272</td></tr><tr><td>User_16</td><td>258</td></tr><tr><td>User_31</td><td>315</td></tr><tr><td>User_5</td><td>263</td></tr><tr><td>User_54</td><td>326</td></tr><tr><td>User_73</td><td>266</td></tr><tr><td>User_88</td><td>245</td></tr><tr><td>User_64</td><td>209</td></tr><tr><td>User_20</td><td>256</td></tr><tr><td>User_72</td><td>173</td></tr><tr><td>User_12</td><td>239</td></tr><tr><td>User_15</td><td>244</td></tr><tr><td>User_99</td><td>245</td></tr><tr><td>User_17</td><td>258</td></tr><tr><td>User_26</td><td>258</td></tr><tr><td>User_43</td><td>279</td></tr><tr><td>User_27</td><td>246</td></tr><tr><td>User_80</td><td>226</td></tr><tr><td>User_34</td><td>256</td></tr><tr><td>User_68</td><td>253</td></tr><tr><td>User_24</td><td>213</td></tr><tr><td>User_28</td><td>278</td></tr><tr><td>User_46</td><td>263</td></tr><tr><td>User_75</td><td>248</td></tr><tr><td>User_21</td><td>240</td></tr><tr><td>User_93</td><td>281</td></tr><tr><td>User_33</td><td>235</td></tr><tr><td>User_48</td><td>222</td></tr><tr><td>User_86</td><td>261</td></tr><tr><td>User_40</td><td>194</td></tr><tr><td>User_32</td><td>292</td></tr><tr><td>User_60</td><td>224</td></tr><tr><td>User_97</td><td>261</td></tr><tr><td>User_87</td><td>247</td></tr><tr><td>User_56</td><td>260</td></tr><tr><td>User_58</td><td>221</td></tr><tr><td>User_29</td><td>274</td></tr><tr><td>User_94</td><td>232</td></tr><tr><td>User_79</td><td>223</td></tr><tr><td>User_41</td><td>275</td></tr><tr><td>User_61</td><td>269</td></tr><tr><td>User_90</td><td>252</td></tr><tr><td>User_52</td><td>225</td></tr><tr><td>User_45</td><td>240</td></tr><tr><td>User_47</td><td>238</td></tr><tr><td>User_82</td><td>277</td></tr><tr><td>User_62</td><td>295</td></tr><tr><td>User_95</td><td>229</td></tr><tr><td>User_74</td><td>250</td></tr><tr><td>User_22</td><td>241</td></tr><tr><td>User_69</td><td>253</td></tr><tr><td>User_50</td><td>239</td></tr><tr><td>User_23</td><td>257</td></tr></tbody></table></div>"
      ]
     },
     "metadata": {
      "application/vnd.databricks.v1+output": {
       "addedWidgets": {},
       "aggData": [],
       "aggError": "",
       "aggOverflow": false,
       "aggSchema": [],
       "aggSeriesLimitReached": false,
       "aggType": "",
       "arguments": {},
       "columnCustomDisplayInfos": {},
       "data": [
        [
         "User_70",
         246
        ],
        [
         "User_44",
         270
        ],
        [
         "User_38",
         206
        ],
        [
         "User_55",
         266
        ],
        [
         "User_81",
         233
        ],
        [
         "User_10",
         248
        ],
        [
         "User_83",
         281
        ],
        [
         "User_9",
         207
        ],
        [
         "User_98",
         355
        ],
        [
         "User_85",
         260
        ],
        [
         "User_59",
         251
        ],
        [
         "User_96",
         243
        ],
        [
         "User_11",
         257
        ],
        [
         "User_8",
         263
        ],
        [
         "User_78",
         213
        ],
        [
         "User_76",
         208
        ],
        [
         "User_100",
         230
        ],
        [
         "User_89",
         185
        ],
        [
         "User_92",
         214
        ],
        [
         "User_66",
         263
        ],
        [
         "User_39",
         255
        ],
        [
         "User_2",
         219
        ],
        [
         "User_1",
         274
        ],
        [
         "User_51",
         317
        ],
        [
         "User_84",
         247
        ],
        [
         "User_4",
         243
        ],
        [
         "User_14",
         326
        ],
        [
         "User_91",
         235
        ],
        [
         "User_19",
         205
        ],
        [
         "User_53",
         249
        ],
        [
         "User_37",
         261
        ],
        [
         "User_71",
         225
        ],
        [
         "User_42",
         281
        ],
        [
         "User_18",
         200
        ],
        [
         "User_3",
         250
        ],
        [
         "User_65",
         293
        ],
        [
         "User_6",
         282
        ],
        [
         "User_77",
         238
        ],
        [
         "User_36",
         208
        ],
        [
         "User_63",
         250
        ],
        [
         "User_67",
         244
        ],
        [
         "User_13",
         264
        ],
        [
         "User_30",
         300
        ],
        [
         "User_7",
         262
        ],
        [
         "User_49",
         223
        ],
        [
         "User_25",
         316
        ],
        [
         "User_57",
         271
        ],
        [
         "User_35",
         272
        ],
        [
         "User_16",
         258
        ],
        [
         "User_31",
         315
        ],
        [
         "User_5",
         263
        ],
        [
         "User_54",
         326
        ],
        [
         "User_73",
         266
        ],
        [
         "User_88",
         245
        ],
        [
         "User_64",
         209
        ],
        [
         "User_20",
         256
        ],
        [
         "User_72",
         173
        ],
        [
         "User_12",
         239
        ],
        [
         "User_15",
         244
        ],
        [
         "User_99",
         245
        ],
        [
         "User_17",
         258
        ],
        [
         "User_26",
         258
        ],
        [
         "User_43",
         279
        ],
        [
         "User_27",
         246
        ],
        [
         "User_80",
         226
        ],
        [
         "User_34",
         256
        ],
        [
         "User_68",
         253
        ],
        [
         "User_24",
         213
        ],
        [
         "User_28",
         278
        ],
        [
         "User_46",
         263
        ],
        [
         "User_75",
         248
        ],
        [
         "User_21",
         240
        ],
        [
         "User_93",
         281
        ],
        [
         "User_33",
         235
        ],
        [
         "User_48",
         222
        ],
        [
         "User_86",
         261
        ],
        [
         "User_40",
         194
        ],
        [
         "User_32",
         292
        ],
        [
         "User_60",
         224
        ],
        [
         "User_97",
         261
        ],
        [
         "User_87",
         247
        ],
        [
         "User_56",
         260
        ],
        [
         "User_58",
         221
        ],
        [
         "User_29",
         274
        ],
        [
         "User_94",
         232
        ],
        [
         "User_79",
         223
        ],
        [
         "User_41",
         275
        ],
        [
         "User_61",
         269
        ],
        [
         "User_90",
         252
        ],
        [
         "User_52",
         225
        ],
        [
         "User_45",
         240
        ],
        [
         "User_47",
         238
        ],
        [
         "User_82",
         277
        ],
        [
         "User_62",
         295
        ],
        [
         "User_95",
         229
        ],
        [
         "User_74",
         250
        ],
        [
         "User_22",
         241
        ],
        [
         "User_69",
         253
        ],
        [
         "User_50",
         239
        ],
        [
         "User_23",
         257
        ]
       ],
       "datasetInfos": [],
       "dbfsResultPath": null,
       "isJsonSchema": true,
       "metadata": {},
       "overflow": false,
       "plotOptions": {
        "customPlotOptions": {},
        "displayType": "table",
        "pivotAggregation": null,
        "pivotColumns": null,
        "xColumns": null,
        "yColumns": null
       },
       "removedWidgets": [],
       "schema": [
        {
         "metadata": "{}",
         "name": "name",
         "type": "\"string\""
        },
        {
         "metadata": "{}",
         "name": "Follower_count",
         "type": "\"long\""
        }
       ],
       "type": "table"
      }
     },
     "output_type": "display_data"
    },
    {
     "output_type": "stream",
     "name": "stdout",
     "output_type": "stream",
     "text": [
      "Out[51]: DataFrame[]"
     ]
    }
   ],
   "source": [
    "# Saving business use data into gold layer\n",
    "user_follower_count=spark.sql(\"\"\"SELECT \n",
    "  name, \n",
    "  sum(\n",
    "  CASE \n",
    "    WHEN message_follower_ids IS NULL OR message_follower_ids = '[]' THEN 0\n",
    "    ELSE SIZE(SPLIT(REGEXP_REPLACE(message_follower_ids, '[]s]', ''), ',')) \n",
    "  END) AS Follower_count\n",
    "FROM silver.array_splitted_data\n",
    "group by name\"\"\")\n",
    "display(user_follower_count)\n",
    "\n",
    "user_follower_count.write.format(\"delta\").mode(\"overwrite\").save(\"dbfs:/FileStore/tables/delta/large_array_file/gold/user_follower_count\")\n",
    "spark.sql(\"create schema if not exists gold\")\n",
    "spark.sql(\"create table if not exists gold.user_follower_count using delta location 'dbfs:/FileStore/tables/delta/large_array_file/gold/user_follower_count'\")"
   ]
  },
  {
   "cell_type": "code",
   "execution_count": 0,
   "metadata": {
    "application/vnd.databricks.v1+cell": {
     "cellMetadata": {
      "byteLimit": 2048000,
      "implicitDf": true,
      "rowLimit": 10000
     },
     "inputWidgets": {},
     "nuid": "048ca165-bd7e-4c94-966f-295500b18ea4",
     "showTitle": false,
     "tableResultSettingsMap": {},
     "title": ""
    }
   },
   "outputs": [],
   "source": [
    "%sql\n",
    "-- describe history of a table\n",
    "-- DESCRIBE HISTORY silver.array_splitted_data;\n",
    "-- showtables in schema\n",
    "-- SHOW TABLES in gold;\n",
    "-- drop table\n",
    "-- drop table if exists \"gold.user_follower_count\"\n",
    "-- remove registered table\n",
    "-- dbutils.fs.rm(\"dbfs:/FileStore/tables/delta/gold.user_follower_count\", recurse=True)\n"
   ]
  }
 ],
 "metadata": {
  "application/vnd.databricks.v1+notebook": {
   "computePreferences": null,
   "dashboards": [],
   "environmentMetadata": null,
   "inputWidgetPreferences": null,
   "language": "python",
   "notebookMetadata": {
    "mostRecentlyExecutedCommandWithImplicitDF": {
     "commandId": 2248403784007202,
     "dataframes": [
      "_sqldf"
     ]
    },
    "pythonIndentUnit": 4
   },
   "notebookName": "split_script_2",
   "widgets": {}
  },
  "kernelspec": {
   "display_name": "sparkenv",
   "language": "python",
   "name": "python3"
  },
  "language_info": {
   "codemirror_mode": {
    "name": "ipython",
    "version": 3
   },
   "file_extension": ".py",
   "mimetype": "text/x-python",
   "name": "python",
   "nbconvert_exporter": "python",
   "pygments_lexer": "ipython3",
   "version": "3.12.0"
  }
 },
 "nbformat": 4,
 "nbformat_minor": 0
}